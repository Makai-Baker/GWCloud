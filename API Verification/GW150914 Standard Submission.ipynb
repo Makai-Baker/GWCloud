{
 "cells": [
  {
   "cell_type": "code",
   "execution_count": 4,
   "id": "35a0f19a-b564-41da-af58-8b4e96e33cd4",
   "metadata": {},
   "outputs": [],
   "source": [
    "!pip install gwcloud-python"
   ]
  },
  {
   "cell_type": "code",
   "execution_count": 5,
   "id": "1fe2bce7-6d98-4044-8424-b727fb3fa340",
   "metadata": {},
   "outputs": [],
   "source": [
    "from gwcloud_python import GWCloud\n",
    "\n",
    "### user token -- sign into gwcloud.org.au/auth/api-token.  Token is unique to individuals and provides authentication e.g., to LVC data and cluster resources\n",
    "gwc = GWCloud(token='51d309e3a82c58384bda96db0bfb36cbb33048c1bac83f5576c1ef080b9057c6') "
   ]
  },
  {
   "cell_type": "code",
   "execution_count": null,
   "id": "18795c45-09f3-40c4-9ceb-be22fa5812b3",
   "metadata": {},
   "outputs": [],
   "source": [
    "from gwcloud_python import Cluster\n",
    "\n",
    "#We now submit a new job to GWCloud using the standard ini file. The ini file will specify everything GWCloud needs to know\n",
    "#to run the parameter estimation.\n",
    "new_job = gwc.start_bilby_job_from_file(\n",
    "    job_name = \"GW150914 Standard Replication\",\n",
    "    job_description = \"Testing GWCloud\",\n",
    "    private=True,\n",
    "    ini_file='GW150914.ini',\n",
    "    cluster = Cluster.CIT\n",
    ")"
   ]
  },
  {
   "cell_type": "code",
   "execution_count": null,
   "id": "4d138483-bc6b-4c9d-8135-5f76c4a50c00",
   "metadata": {},
   "outputs": [],
   "source": [
    "##We can track the progress of our job on GWCloud to see whether it has submitted, completed, or if something went wrong."
    "my_jobs = gwc.get_user_jobs()\n",
    "\n",
    "print(my_jobs[-1].status)"
   ]
  },
  {
   "cell_type": "code",
   "execution_count": null,
   "id": "2d5c3629-2536-4cb0-9209-9dd1d3ab2ee3",
   "metadata": {},
   "outputs": [],
   "source": []
  }
 ],
 "metadata": {
  "kernelspec": {
   "display_name": "Python 3 (ipykernel)",
   "language": "python",
   "name": "python3"
  },
  "language_info": {
   "codemirror_mode": {
    "name": "ipython",
    "version": 3
   },
   "file_extension": ".py",
   "mimetype": "text/x-python",
   "name": "python",
   "nbconvert_exporter": "python",
   "pygments_lexer": "ipython3",
   "version": "3.7.12"
  }
 },
 "nbformat": 4,
 "nbformat_minor": 5
}
