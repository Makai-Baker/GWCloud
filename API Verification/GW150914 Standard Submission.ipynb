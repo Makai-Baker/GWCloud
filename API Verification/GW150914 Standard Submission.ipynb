{
 "cells": [
  {
   "cell_type": "code",
   "execution_count": 4,
   "id": "35a0f19a-b564-41da-af58-8b4e96e33cd4",
   "metadata": {},
   "outputs": [
    {
     "name": "stdout",
     "output_type": "stream",
     "text": [
      "Defaulting to user installation because normal site-packages is not writeable\n",
      "Requirement already satisfied: gwcloud-python in ./.local/lib/python3.7/site-packages (1.5.0)\n",
      "Requirement already satisfied: requests<3.0.0,>=2.25.1 in /opt/conda3-2019-09-10/lib/python3.7/site-packages (from gwcloud-python) (2.26.0)\n",
      "Requirement already satisfied: tqdm<5.0.0,>=4.61.2 in /opt/conda3-2019-09-10/lib/python3.7/site-packages (from gwcloud-python) (4.62.3)\n",
      "Requirement already satisfied: jwt<2.0.0,>=1.2.0 in ./.local/lib/python3.7/site-packages (from gwcloud-python) (1.3.1)\n",
      "Requirement already satisfied: importlib-metadata<5.0.0,>=4.5.0 in /opt/conda3-2019-09-10/lib/python3.7/site-packages (from gwcloud-python) (4.8.2)\n",
      "Requirement already satisfied: gwdc-python<0.4.0,>=0.3.0 in ./.local/lib/python3.7/site-packages (from gwcloud-python) (0.3.1)\n",
      "Requirement already satisfied: graphene-file-upload<2.0.0,>=1.3.0 in ./.local/lib/python3.7/site-packages (from gwcloud-python) (1.3.0)\n",
      "Requirement already satisfied: six>=1.11.0 in /opt/conda3-2019-09-10/lib/python3.7/site-packages (from graphene-file-upload<2.0.0,>=1.3.0->gwcloud-python) (1.16.0)\n",
      "Requirement already satisfied: requests-toolbelt<0.10.0,>=0.9.1 in ./.local/lib/python3.7/site-packages (from gwdc-python<0.4.0,>=0.3.0->gwcloud-python) (0.9.1)\n",
      "Requirement already satisfied: zipp>=0.5 in /opt/conda3-2019-09-10/lib/python3.7/site-packages (from importlib-metadata<5.0.0,>=4.5.0->gwcloud-python) (3.6.0)\n",
      "Requirement already satisfied: typing-extensions>=3.6.4 in /opt/conda3-2019-09-10/lib/python3.7/site-packages (from importlib-metadata<5.0.0,>=4.5.0->gwcloud-python) (4.0.0)\n",
      "Requirement already satisfied: cryptography!=3.4.0,>=3.1 in ./.local/lib/python3.7/site-packages (from jwt<2.0.0,>=1.2.0->gwcloud-python) (3.3.1)\n",
      "Requirement already satisfied: charset-normalizer~=2.0.0 in /opt/conda3-2019-09-10/lib/python3.7/site-packages (from requests<3.0.0,>=2.25.1->gwcloud-python) (2.0.0)\n",
      "Requirement already satisfied: certifi>=2017.4.17 in /opt/conda3-2019-09-10/lib/python3.7/site-packages (from requests<3.0.0,>=2.25.1->gwcloud-python) (2021.10.8)\n",
      "Requirement already satisfied: urllib3<1.27,>=1.21.1 in /opt/conda3-2019-09-10/lib/python3.7/site-packages (from requests<3.0.0,>=2.25.1->gwcloud-python) (1.26.7)\n",
      "Requirement already satisfied: idna<4,>=2.5 in /opt/conda3-2019-09-10/lib/python3.7/site-packages (from requests<3.0.0,>=2.25.1->gwcloud-python) (3.1)\n",
      "Requirement already satisfied: cffi>=1.12 in /opt/conda3-2019-09-10/lib/python3.7/site-packages (from cryptography!=3.4.0,>=3.1->jwt<2.0.0,>=1.2.0->gwcloud-python) (1.15.0)\n",
      "Requirement already satisfied: pycparser in /opt/conda3-2019-09-10/lib/python3.7/site-packages (from cffi>=1.12->cryptography!=3.4.0,>=3.1->jwt<2.0.0,>=1.2.0->gwcloud-python) (2.21)\n"
     ]
    }
   ],
   "source": [
    "!pip install gwcloud-python"
   ]
  },
  {
   "cell_type": "code",
   "execution_count": 5,
   "id": "1fe2bce7-6d98-4044-8424-b727fb3fa340",
   "metadata": {},
   "outputs": [],
   "source": [
    "from gwcloud_python import GWCloud\n",
    "\n",
    "### user token -- sign into gwcloud.org.au/auth/api-token.  Token is unique to individuals and provides authentication e.g., to LVC data and cluster resources\n",
    "gwc = GWCloud(token='51d309e3a82c58384bda96db0bfb36cbb33048c1bac83f5576c1ef080b9057c6') "
   ]
  },
  {
   "cell_type": "code",
   "execution_count": null,
   "id": "18795c45-09f3-40c4-9ceb-be22fa5812b3",
   "metadata": {},
   "outputs": [],
   "source": [
    "from gwcloud_python import Cluster\n",
    "\n",
    "#We now submit a new job to GWCloud using the standard ini file. The ini file will specify everything GWCloud needs to know\n",
    "#to run the parameter estimation.\n",
    "new_job = gwc.start_bilby_job_from_file(\n",
    "    job_name = \"GW150914 Standard Replication\",\n",
    "    job_description = \"Testing GWCloud\",\n",
    "    private=True,\n",
    "    ini_file='GW150914.ini',\n",
    "    cluster = Cluster.CIT\n",
    ")"
   ]
  },
  {
   "cell_type": "code",
   "execution_count": null,
   "id": "4d138483-bc6b-4c9d-8135-5f76c4a50c00",
   "metadata": {},
   "outputs": [],
   "source": [
    "my_jobs = \n",
    "\n",
    "print(gwc.get_user_jobs()[-1].status)"
   ]
  },
  {
   "cell_type": "code",
   "execution_count": null,
   "id": "2d5c3629-2536-4cb0-9209-9dd1d3ab2ee3",
   "metadata": {},
   "outputs": [],
   "source": []
  }
 ],
 "metadata": {
  "kernelspec": {
   "display_name": "Python 3 (ipykernel)",
   "language": "python",
   "name": "python3"
  },
  "language_info": {
   "codemirror_mode": {
    "name": "ipython",
    "version": 3
   },
   "file_extension": ".py",
   "mimetype": "text/x-python",
   "name": "python",
   "nbconvert_exporter": "python",
   "pygments_lexer": "ipython3",
   "version": "3.7.12"
  }
 },
 "nbformat": 4,
 "nbformat_minor": 5
}
