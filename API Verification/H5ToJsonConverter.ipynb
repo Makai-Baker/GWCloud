{
 "cells": [
  {
   "cell_type": "code",
   "execution_count": null,
   "id": "2cf76f94-3fbd-4aba-9119-bc3bd6baba57",
   "metadata": {},
   "outputs": [],
   "source": [
    "import matplotlib.pyplot as plt\n",
    "import pesummary\n",
    "from pesummary.io import read\n",
    "from pesummary.io import write\n",
    "print(pesummary.__version__)\n",
    "import h5py\n",
    "import glob\n",
    "import os\n",
    "import shutil\n",
    "import json\n",
    "import bilby\n",
    "%matplotlib inline\n",
    "%config InlineBackend.figure_format='retina'"
   ]
  },
  {
   "cell_type": "code",
   "execution_count": null,
   "id": "09c25786-b8b8-4b28-8506-712fe8974dc8",
   "metadata": {},
   "outputs": [],
   "source": [
    "## Converts .h5 files in directory to JSON files.\n",
    "\n",
    "for file in glob.glob('./*.h5'):\n",
    "    event = file.split('.')[1][1:]\n",
    "    if './'+event+'.json' not in glob.glob('./*.json'):\n",
    "        print(event)\n",
    "        conversion = False\n",
    "        with open('skeleton.json', 'r') as f:\n",
    "            skeleton = json.load(f)\n",
    "            data = read(file)\n",
    "            waveforms = ['C01:IMRPhenomPXHM', 'C01:SEOBNRv4PHM', 'C01:SEOBNRv4P', 'C01:IMRPhenomPv2']\n",
    "            for waveform in waveforms:\n",
    "                if waveform in list(data.samples_dict.keys()):\n",
    "                    conversion = True\n",
    "                    print('Using samples from', waveform)\n",
    "                    parameters = list(skeleton['posterior']['content']) + list(data.samples_dict[waveform].keys())\n",
    "                    for parameter in parameters:\n",
    "                        try:\n",
    "                            skeleton['posterior']['content'][parameter] = list(data.samples_dict[waveform][parameter])\n",
    "                        except KeyError:\n",
    "                            skeleton['posterior']['content'].pop(parameter)\n",
    "                    break\n",
    "                else:\n",
    "                    print(waveform, 'waveform not present')\n",
    "            if conversion:\n",
    "                skeleton['label'] = event + '_merge'\n",
    "\n",
    "                extrinsic_params = ['outdir', 'sampler', 'log_evidence', 'log_evidence_err', 'log_noise_evidence',\n",
    "                                    'log_bayes_factor']\n",
    "                for param in extrinsic_params:\n",
    "                    skeleton[param] = 'Data does not exist'\n",
    "\n",
    "                with open(event + '.json', 'w') as g:\n",
    "                    json.dump(skeleton, g)\n",
    "                    print(event+'.json', 'file created.')"
   ]
  }
 ],
 "metadata": {
  "kernelspec": {
   "display_name": "igwn-py37",
   "language": "python",
   "name": "igwn-py37"
  },
  "language_info": {
   "codemirror_mode": {
    "name": "ipython",
    "version": 3
   },
   "file_extension": ".py",
   "mimetype": "text/x-python",
   "name": "python",
   "nbconvert_exporter": "python",
   "pygments_lexer": "ipython3",
   "version": "3.7.12"
  }
 },
 "nbformat": 4,
 "nbformat_minor": 5
}
