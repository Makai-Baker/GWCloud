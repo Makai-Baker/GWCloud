{
 "cells": [
  {
   "cell_type": "code",
   "execution_count": null,
   "id": "9500e5dc-036a-4598-856b-4cf9aa0f735b",
   "metadata": {},
   "outputs": [],
   "source": [
    "!pip install gwcloud-python bilby"
   ]
  },
  {
   "cell_type": "code",
   "execution_count": null,
   "id": "2afed96a-c6c4-4b80-899e-75c05c84cd80",
   "metadata": {},
   "outputs": [],
   "source": [
    "from gwcloud_python import GWCloud\n",
    "\n",
    "### user token -- sign into gwcloud.org.au/auth/api-token.  Token is unique to individuals and provides authentication e.g., to LVC data and cluster resources\n",
    "gwc = GWCloud(token='PlaceYourTokenHere') "
   ]
  },
  {
   "cell_type": "code",
   "execution_count": null,
   "id": "422e6dbd-4f85-48ec-823a-da84ea2d36b5",
   "metadata": {},
   "outputs": [],
   "source": [
    "from gwcloud_python import Cluster\n",
    "\n",
    "#We now submit a new job to GWCloud using the standard ini file. The ini file will specify everything GWCloud needs to know\n",
    "#to run the parameter estimation.\n",
    "spin_job = gwc.start_bilby_job_from_file(\n",
    "    job_name = \"GW150914 With Spin\",\n",
    "    job_description = \"Testing GWCloud\",\n",
    "    private=True,\n",
    "    ini_file='GW150914.ini',\n",
    "    cluster = Cluster.CIT\n",
    ")\n",
    "\n",
    "no_spin_job = gwc.start_bilby_job_from_file(\n",
    "    job_name = \"GW150914 With Spin\",\n",
    "    job_description = \"Testing GWCloud\",\n",
    "    private=True,\n",
    "    ini_file='NoSpin.ini',\n",
    "    cluster = Cluster.CIT\n",
    ")"
   ]
  },
  {
   "cell_type": "code",
   "execution_count": null,
   "id": "35a4d42b-4578-4acc-8b73-55dcff794042",
   "metadata": {},
   "outputs": [],
   "source": [
    "#Check on the status of the jobs\n",
    "print(spin_job.status)\n",
    "print(no_spin_job.status)"
   ]
  },
  {
   "cell_type": "code",
   "execution_count": null,
   "id": "d5781540-3020-4413-b009-f4edfdb31792",
   "metadata": {},
   "outputs": [],
   "source": [
    "import gwcloud_python\n",
    "#To obtain the log bayes factor and create the superimposed pltos we must download the merge json file (size roughly 1G) and \n",
    "#read the result from this file using bilby.core.result.read_in_result(filename)\n",
    "\n",
    "jobs = gwc.get_user_jobs[-2:]\n",
    "for job in jobs:\n",
    "    json_files = job.get_full_file_list().filter_list_by_path(directory='result', extension='json')\n",
    "    file_list = gwcloud_python.file_reference.FileReferenceList()\n",
    "    file_list.append(json_files[0])\n",
    "    job.save_files_by_reference(file_list, './result')"
   ]
  },
  {
   "cell_type": "code",
   "execution_count": null,
   "id": "539d7b26-bed4-4fdd-8296-348da1095601",
   "metadata": {},
   "outputs": [],
   "source": [
    "import bilby\n",
    "\n",
    "#Here we create the result objects from the result files. Now, we can make plots and read data.\n",
    "\n",
    "spin_result = bilby.core.result.read_in_result(filename=str(spin_json_files[0].path))\n",
    "no_spin_result = bilby.core.result.read_in_result(filename=str(no_spin_json_files[0].path))\n",
    "\n",
    "print(spin_result.log_bayes_factor)\n",
    "print(no_spin_result.log_bayes_factor)\n",
    "\n",
    "bilby.core.result.plot_multiple([spin_result, no_spin_result], labels = ['Spin', 'No Spin'], parameters = ['mass_1', 'mass_2', 'mass_ratio', 'theta_jn', 'luminosity_distance'])\n"
   ]
  }
 ],
 "metadata": {
  "kernelspec": {
   "display_name": "igwn-py37",
   "language": "python",
   "name": "igwn-py37"
  },
  "language_info": {
   "codemirror_mode": {
    "name": "ipython",
    "version": 3
   },
   "file_extension": ".py",
   "mimetype": "text/x-python",
   "name": "python",
   "nbconvert_exporter": "python",
   "pygments_lexer": "ipython3",
   "version": "3.7.10"
  }
 },
 "nbformat": 4,
 "nbformat_minor": 5
}
