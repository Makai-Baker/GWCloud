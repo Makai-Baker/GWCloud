{
 "cells": [
  {
   "cell_type": "code",
   "execution_count": null,
   "id": "3fe6703e-2040-42d0-8657-3deb4cbaafbf",
   "metadata": {},
   "outputs": [],
   "source": [
    "!pip install gwcloud-python bilby"
   ]
  },
  {
   "cell_type": "code",
   "execution_count": 2,
   "id": "2a892449-6e3a-4ced-9ff5-fa5d1c95a509",
   "metadata": {},
   "outputs": [],
   "source": [
    "from gwcloud_python import GWCloud\n",
    "\n",
    "## user token -- sign into gwcloud.org.au/auth/api-token.  Token is unique to individuals and provides authentication e.g., to LVC data and cluster resources\n",
    "gwc = GWCloud(token='Your Token Here') "
   ]
  },
  {
   "cell_type": "code",
   "execution_count": null,
   "id": "0a06761b-f834-49cb-b47f-8d892b10a6d5",
   "metadata": {},
   "outputs": [],
   "source": [
    "## We can use the API to upload a job archive. The standard format for uploading these jobs is\n",
    "\n",
    "## job = gwc.upload_job_archive('A meaningful description', 'path/to/archive.tar.gz')\n",
    "\n",
    "## We can test this functionality for the gravitational wave event GW190412. Please download the GW190412.tar file from the Job Upload Files directory.\n",
    "\n",
    "job = gwc.upload_job_archive(\"Official samples for GWTC-2 event GW190412. Data found at https://dcc.ligo.org/LIGO-P2000223/public\", \n",
    "                             \"./GW190412.tar.gz\")"
   ]
  }
 ],
 "metadata": {
  "kernelspec": {
   "display_name": "igwn-py37",
   "language": "python",
   "name": "igwn-py37"
  },
  "language_info": {
   "codemirror_mode": {
    "name": "ipython",
    "version": 3
   },
   "file_extension": ".py",
   "mimetype": "text/x-python",
   "name": "python",
   "nbconvert_exporter": "python",
   "pygments_lexer": "ipython3",
   "version": "3.7.12"
  }
 },
 "nbformat": 4,
 "nbformat_minor": 5
}
