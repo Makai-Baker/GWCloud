{
 "cells": [
  {
   "cell_type": "code",
   "execution_count": null,
   "id": "4c63b690-2686-49de-8c8c-4c4a507ae1f2",
   "metadata": {},
   "outputs": [],
   "source": [
    "!pip3 install gwcloud-python bilby"
   ]
  },
  {
   "cell_type": "code",
   "execution_count": null,
   "id": "667ce2e4-4495-4697-9df6-bc93c18e0b9e",
   "metadata": {},
   "outputs": [],
   "source": [
    "import matplotlib.pyplot as plt\n",
    "from matplotlib.lines import Line2D\n",
    "import gwcloud_python\n",
    "\n",
    "from pathlib import Path\n",
    "import glob\n",
    "import numpy as np\n",
    "import bilby"
   ]
  },
  {
   "cell_type": "markdown",
   "metadata": {},
   "source": [
    "# Recreating GW190521 eccentricity figure\n",
    "\n",
    "In this tutorial, we will use the eccentricity posterior samples of a job stored in GWCloud to recreate Fig. 1 from __[GW190521 eccentricity](https://arxiv.org/pdf/2009.04771.pdf)__.\n",
    "\n",
    "The first step is to authenticate with the GWCloud service by using your API token.\n",
    "\n",
    "We also set a directory to be used to save and load files that are downloaded from GWCloud."
   ]
  },
  {
   "cell_type": "code",
   "execution_count": null,
   "id": "0e85689b-ab60-4951-a7eb-aa535633626b",
   "metadata": {},
   "outputs": [],
   "source": [
    "from gwcloud_python import GWCloud, TimeRange\n",
    "\n",
    "save_dir = Path('./EccentricHistogram')\n",
    "\n",
    "### user token -- sign into gwcloud.org.au/auth/api-token.  Token is unique to individuals and provides authentication e.g., to LVC data and cluster resources\n",
    "gwc = GWCloud(token='token goes here') "
   ]
  },
  {
   "cell_type": "markdown",
   "metadata": {},
   "source": [
    "The job analysing the eccentricity of GW190521 has a unique job name which we will use to filter our search of the GWCloud jobs.\n",
    "\n",
    "Once we obtain the job we download the result files containing the posterior samples of the eccentricity analysis."
   ]
  },
  {
   "cell_type": "code",
   "execution_count": null,
   "id": "6b7ed491-81ba-4b41-8eef-c859c691881e",
   "metadata": {},
   "outputs": [],
   "source": [
    "# Download the merge_result.json files for the eccentric GW190521 run.\n",
    "jobs = gwc.get_public_job_list(search = 'GW190521_eccentric', time_range = TimeRange.ANY)\n",
    "\n",
    "for job in jobs:\n",
    "    job.save_result_json_files(save_dir)"
   ]
  },
  {
   "cell_type": "markdown",
   "metadata": {},
   "source": [
    "Now that we have obtained the JSON file containing the eccentricity posterior, we extract this information and plot it."
   ]
  },
  {
   "cell_type": "code",
   "execution_count": null,
   "id": "19058d9f-f78d-4467-9c62-4b4dbd31a03b",
   "metadata": {},
   "outputs": [],
   "source": [
    "for file in save_dir.glob('result/*.json'):\n",
    "    eccentric_result = bilby.core.result.read_in_result(filename=str(file))\n",
    "    \n",
    "eccentric_result.posterior['log10_eccentricities'] = np.log10(eccentric_result.posterior['eccentricities'])\n",
    "\n",
    "plt.hist(np.log10(eccentric_result.posterior['eccentricities']), bins=25, histtype='step', linewidth=3)\n",
    "plt.xlim(-3, -0.6)\n",
    "ax = plt.gca()\n",
    "ax.axes.set_yticks([])\n",
    "plt.xlabel(r'$\\log_{10}e_{10}$')\n",
    "plt.ylabel(r'$p(\\log_{10}e_{10}|d)$')\n",
    "plt.tight_layout()\n",
    "\n",
    "plt.savefig(fname='GW190521_eccentricity_posterior_histogram.pdf')"
   ]
  }
 ],
 "metadata": {
  "kernelspec": {
   "display_name": "igwn-py39",
   "language": "python",
   "name": "igwn-py39"
  },
  "language_info": {
   "codemirror_mode": {
    "name": "ipython",
    "version": 3
   },
   "file_extension": ".py",
   "mimetype": "text/x-python",
   "name": "python",
   "nbconvert_exporter": "python",
   "pygments_lexer": "ipython3",
   "version": "3.9.12"
  }
 },
 "nbformat": 4,
 "nbformat_minor": 5
}
