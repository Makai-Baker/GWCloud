{
 "cells": [
  {
   "cell_type": "code",
   "execution_count": null,
   "id": "32d6d8f3-7aec-4fdb-bdc1-1aa9703947dc",
   "metadata": {},
   "outputs": [],
   "source": [
    "!pip install gwcloud-python"
   ]
  },
  {
   "cell_type": "code",
   "execution_count": 2,
   "id": "580b2d82-eb5b-4806-adfe-b30c822560d8",
   "metadata": {},
   "outputs": [],
   "source": [
    "from gwcloud_python import GWCloud\n",
    "\n",
    "### user token -- sign into gwcloud.org.au/auth/api-token.  Token is unique to individuals and provides authentication e.g., to LVC data and cluster resources\n",
    "gwc = GWCloud(token='Your token goes here') "
   ]
  },
  {
   "cell_type": "code",
   "execution_count": 3,
   "id": "013c0159-3f96-49b2-ad9a-326253d3b99e",
   "metadata": {},
   "outputs": [],
   "source": [
    "from gwcloud_python import Cluster\n",
    "\n",
    "#We now submit a new job to GWCloud using the standard ini file. The ini file will specify everything GWCloud needs to know\n",
    "#to run the parameter estimation.\n",
    "\n",
    "new_job = gwc.start_bilby_job_from_file(\n",
    "    job_name = \"GW150914Example\",\n",
    "    job_description = \"Testing GWCloud\",\n",
    "    private=False,\n",
    "    ini_file='GW150914_example.ini',\n",
    "    cluster = Cluster.CIT\n",
    ")"
   ]
  },
  {
   "cell_type": "code",
   "execution_count": null,
   "id": "d1f2878e-4430-4040-8842-beccfab50b2e",
   "metadata": {},
   "outputs": [],
   "source": [
    "#Check on the status of the job\n",
    "print(new_job.status)"
   ]
  }
 ],
 "metadata": {
  "kernelspec": {
   "display_name": "igwn-py37",
   "language": "python",
   "name": "igwn-py37"
  },
  "language_info": {
   "codemirror_mode": {
    "name": "ipython",
    "version": 3
   },
   "file_extension": ".py",
   "mimetype": "text/x-python",
   "name": "python",
   "nbconvert_exporter": "python",
   "pygments_lexer": "ipython3",
   "version": "3.7.12"
  }
 },
 "nbformat": 4,
 "nbformat_minor": 5
}
