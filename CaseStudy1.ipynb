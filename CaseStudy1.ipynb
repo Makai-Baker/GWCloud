{
 "cells": [
  {
   "cell_type": "markdown",
   "id": "9884c3ae",
   "metadata": {
    "tags": []
   },
   "source": [
    "# Using the supporting files\n",
    "\n",
    "This tutorial is accompanied by a set of supporting files. These exist in the directory titled\n",
    "### Case Study 1 files\n",
    "To use these files in this notebook:\n",
    "1. Download the directory 'Case Study 1 files'\n",
    "1. Download this notebook\n",
    "1. Place the notebook inside the directory\n",
    "\n",
    "Once this is done, you can run the notebook as intended."
   ]
  },
  {
   "cell_type": "code",
   "execution_count": null,
   "id": "b72984c5",
   "metadata": {},
   "outputs": [],
   "source": [
    "!pip3 install gwcloud-python bilby"
   ]
  },
  {
   "cell_type": "markdown",
   "id": "faa85fab",
   "metadata": {},
   "source": [
    "# Running and comparing two Bilby jobs\n",
    "\n",
    "In this tutorial, we will run two Bilby jobs, download their results and then analyse them.\n",
    "\n",
    "The first step is to authenticate with the GWCloud service by using your API token."
   ]
  },
  {
   "cell_type": "code",
   "execution_count": null,
   "id": "2afed96a-c6c4-4b80-899e-75c05c84cd80",
   "metadata": {},
   "outputs": [],
   "source": [
    "from gwcloud_python import GWCloud\n",
    "\n",
    "gwc = GWCloud(token='Your token goes here') "
   ]
  },
  {
   "cell_type": "markdown",
   "id": "0f6b07de",
   "metadata": {},
   "source": [
    "Once authenticated, we can submit Bilby jobs to a specified cluster. We have to provide a job name and description, along with whether or not the job should be private. We also supply standard Bilby ini files, which will specify everything needed to run the parameter estimation. These ini files and their supporting files can be found in the 'Case Study 1 files' directory. Please make sure to place all of the files within that directory into the same directory from which you run this code. Finally, we use the Cluster enum to submit the jobs to the Caltech cluster."
   ]
  },
  {
   "cell_type": "code",
   "execution_count": null,
   "id": "422e6dbd-4f85-48ec-823a-da84ea2d36b5",
   "metadata": {},
   "outputs": [],
   "source": [
    "from gwcloud_python import Cluster\n",
    "\n",
    "spin_job = gwc.start_bilby_job_from_file(\n",
    "    job_name=\"GW150914Example\",\n",
    "    job_description=\"GW150914 job with a spin prior\",\n",
    "    private=False,\n",
    "    ini_file='GW150914_example.ini',\n",
    "    cluster=Cluster.CIT\n",
    ")\n",
    "\n",
    "no_spin_job = gwc.start_bilby_job_from_file(\n",
    "    job_name=\"GW150914NoSpin\",\n",
    "    job_description=\"GW150914 job with a no spin prior\",\n",
    "    private=False,\n",
    "    ini_file='GW150914NoSpin.ini',\n",
    "    cluster=Cluster.CIT\n",
    ")"
   ]
  },
  {
   "cell_type": "markdown",
   "id": "12d5c52d",
   "metadata": {},
   "source": [
    "If you receive a job repetition error, simply change the job_name field. This error means you have already submitted a job with that job_name.\n",
    "\n",
    "Please note, these jobs will take up to three days to run in full on the cluster.\n",
    "We can check the status of the jobs, to determine whether they are running or have been completed."
   ]
  },
  {
   "cell_type": "code",
   "execution_count": null,
   "id": "35a4d42b-4578-4acc-8b73-55dcff794042",
   "metadata": {},
   "outputs": [],
   "source": [
    "print(spin_job.status)\n",
    "print(no_spin_job.status)"
   ]
  },
  {
   "cell_type": "markdown",
   "id": "c75c5935-b24c-4d7d-8f2c-25ad4b3fc920",
   "metadata": {},
   "source": [
    "We now wish to set the event IDs of the above jobs. As both jobs are run on GW150914 data (with different priors), they will both have the GW150914_000000 event ID."
   ]
  },
  {
   "cell_type": "code",
   "execution_count": null,
   "id": "12c10682-46fe-49dd-9d15-6579d49511a1",
   "metadata": {},
   "outputs": [],
   "source": [
    "spin_job.set_event_id(event_id='GW150914_000000')\n",
    "no_spin_job.set_event_id(event_id='GW150914_000000')"
   ]
  },
  {
   "cell_type": "markdown",
   "id": "89976ee2",
   "metadata": {},
   "source": [
    "If we lose reference to our jobs, we can obtain them again from the list of our jobs. In this instance, we're selecting the last two jobs we ran."
   ]
  },
  {
   "cell_type": "code",
   "execution_count": null,
   "id": "24743f77",
   "metadata": {},
   "outputs": [],
   "source": [
    "jobs = []\n",
    "\n",
    "user_jobs = gwc.get_user_jobs()\n",
    "for job in user_jobs:\n",
    "    if job.name == 'GW150914NoSpin' or job.name == 'GW150914Example':\n",
    "        jobs.append(job)"
   ]
  },
  {
   "cell_type": "markdown",
   "id": "1effbf82",
   "metadata": {},
   "source": [
    "Once the jobs have been completed, we can obtain the results files.\n",
    "\n",
    "To obtain the log Bayes factor and create the superimposed plots, we must download the merged json file for each job (which has a size of roughly 1GB), and then read this file using bilby.core.result.read_in_result()."
   ]
  },
  {
   "cell_type": "code",
   "execution_count": null,
   "id": "d5781540-3020-4413-b009-f4edfdb31792",
   "metadata": {},
   "outputs": [],
   "source": [
    "from pathlib import Path\n",
    "\n",
    "save_dir = Path('./files')\n",
    "\n",
    "for job in jobs:\n",
    "    job.save_result_json_files(save_dir)"
   ]
  },
  {
   "cell_type": "markdown",
   "id": "5353b67b",
   "metadata": {},
   "source": [
    "Finally, we use Bilby to create the result objects from the merged json files. This allows us to make plots."
   ]
  },
  {
   "cell_type": "code",
   "execution_count": null,
   "id": "539d7b26-bed4-4fdd-8296-348da1095601",
   "metadata": {},
   "outputs": [],
   "source": [
    "import bilby, glob, math\n",
    "\n",
    "for file in save_dir.glob('result/*.json'):\n",
    "    if 'NoSpin' in file.name:\n",
    "        no_spin_result = bilby.core.result.read_in_result(filename=file)\n",
    "    else:\n",
    "        spin_result = bilby.core.result.read_in_result(filename=file)\n",
    "\n",
    "spin_ln_bf = spin_result.log_bayes_factor\n",
    "nospin_ln_bf = no_spin_result.log_bayes_factor\n",
    "BF = math.exp(nospin_ln_bf-spin_ln_bf)\n",
    "print(\"The no-spin/spin Bayes factor is {0}\".format(BF))\n",
    "\n",
    "bilby.core.result.plot_multiple([spin_result, no_spin_result], labels = ['Spin', 'No Spin'], parameters = ['mass_1', 'mass_2', 'mass_ratio', 'theta_jn', 'luminosity_distance'])\n"
   ]
  }
 ],
 "metadata": {
  "kernelspec": {
   "display_name": "igwn-py39",
   "language": "python",
   "name": "igwn-py39"
  },
  "language_info": {
   "codemirror_mode": {
    "name": "ipython",
    "version": 3
   },
   "file_extension": ".py",
   "mimetype": "text/x-python",
   "name": "python",
   "nbconvert_exporter": "python",
   "pygments_lexer": "ipython3",
   "version": "3.9.13"
  }
 },
 "nbformat": 4,
 "nbformat_minor": 5
}
